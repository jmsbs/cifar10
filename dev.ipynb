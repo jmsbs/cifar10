{
 "cells": [
  {
   "cell_type": "markdown",
   "source": [
    "# CIFAR10 \n",
    "An image classification project. The CIFAR-10 dataset consists of 60000 32x32 colour images in 10 classes, with 6000 images per class. There are 50000 training images and 10000 test images."
   ],
   "metadata": {
    "collapsed": false
   },
   "id": "1ecf8513c5adecf5"
  },
  {
   "cell_type": "markdown",
   "source": [
    "### i. Imports and dataset load"
   ],
   "metadata": {
    "collapsed": false
   },
   "id": "53cf2a00ae8d349a"
  },
  {
   "cell_type": "code",
   "execution_count": 2,
   "id": "initial_id",
   "metadata": {
    "collapsed": true,
    "ExecuteTime": {
     "end_time": "2024-06-01T23:56:53.939504Z",
     "start_time": "2024-06-01T23:56:53.669970Z"
    }
   },
   "outputs": [],
   "source": [
    "import pandas as pd\n",
    "from tensorflow.keras.datasets import cifar10\n",
    "\n",
    "# Load the dataset\n",
    "(train_images, train_labels), (test_images, test_labels) = cifar10.load_data()"
   ]
  },
  {
   "cell_type": "code",
   "outputs": [],
   "source": [],
   "metadata": {
    "collapsed": false
   },
   "id": "1223610e96b43804"
  }
 ],
 "metadata": {
  "kernelspec": {
   "display_name": "Python 3",
   "language": "python",
   "name": "python3"
  },
  "language_info": {
   "codemirror_mode": {
    "name": "ipython",
    "version": 2
   },
   "file_extension": ".py",
   "mimetype": "text/x-python",
   "name": "python",
   "nbconvert_exporter": "python",
   "pygments_lexer": "ipython2",
   "version": "2.7.6"
  }
 },
 "nbformat": 4,
 "nbformat_minor": 5
}
